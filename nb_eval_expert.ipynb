{
 "cells": [
  {
   "cell_type": "code",
   "execution_count": 12,
   "metadata": {},
   "outputs": [
    {
     "data": {
      "text/plain": [
       "['eval_rsi', 'clip_info.json']"
      ]
     },
     "execution_count": 12,
     "metadata": {},
     "output_type": "execute_result"
    }
   ],
   "source": [
    "import os\n",
    "os.getcwd()\n",
    "os.path.exists('../data/experts/')\n",
    "os.listdir('../data/experts/CMU_016_15-0-127')"
   ]
  },
  {
   "cell_type": "code",
   "execution_count": 13,
   "metadata": {},
   "outputs": [
    {
     "name": "stderr",
     "output_type": "stream",
     "text": [
      "/home/stevenabreu/mocapact_conceptor/.venv_jax/lib/python3.9/site-packages/stable_baselines3/common/save_util.py:166: UserWarning: Could not deserialize object lr_schedule. Consider using `custom_objects` argument to replace this object.\n",
      "Exception: an integer is required (got type bytes)\n",
      "  warnings.warn(\n"
     ]
    }
   ],
   "source": [
    "from mocapact import observables\n",
    "from mocapact.sb3 import utils\n",
    "expert_path = \"../data/experts/CMU_016_15-0-127/eval_rsi/model\" # example path\n",
    "expert = utils.load_policy(expert_path, observables.TIME_INDEX_OBSERVABLES)"
   ]
  },
  {
   "cell_type": "code",
   "execution_count": 14,
   "metadata": {},
   "outputs": [],
   "source": [
    "from IPython.display import HTML\n",
    "from IPython.display import display\n",
    "import numpy as np\n",
    "import matplotlib.pyplot as plt\n",
    "from matplotlib.animation import FuncAnimation\n",
    "\n",
    "\n",
    "def visualize_images(images, show=True, to_file = None):\n",
    "    fig, ax = plt.subplots()\n",
    "    x = ax.imshow(images[0])\n",
    "\n",
    "    def update(frame):\n",
    "        x.set_data(images[frame])\n",
    "        return x\n",
    "\n",
    "    ani = FuncAnimation(fig, update, frames=range(len(images)), interval=50)\n",
    "    if to_file is not None:\n",
    "        ani.save(to_file, writer='imagemagick', fps=30)\n",
    "    if show:\n",
    "        display(HTML(ani.to_html5_video()))\n",
    "    plt.close()"
   ]
  },
  {
   "cell_type": "code",
   "execution_count": 15,
   "metadata": {},
   "outputs": [
    {
     "name": "stderr",
     "output_type": "stream",
     "text": [
      "/home/stevenabreu/mocapact_conceptor/.venv_jax/lib/python3.9/site-packages/glfw/__init__.py:916: GLFWError: (65544) b'X11: The DISPLAY environment variable is missing'\n",
      "  warnings.warn(message, GLFWError)\n",
      "/home/stevenabreu/mocapact_conceptor/.venv_jax/lib/python3.9/site-packages/glfw/__init__.py:916: GLFWError: (65537) b'The GLFW library is not initialized'\n",
      "  warnings.warn(message, GLFWError)\n"
     ]
    },
    {
     "ename": "FatalError",
     "evalue": "an OpenGL platform library has not been loaded into this process, this most likely means that a valid OpenGL context has not been created before mjr_makeContext was called",
     "output_type": "error",
     "traceback": [
      "\u001b[0;31m---------------------------------------------------------------------------\u001b[0m",
      "\u001b[0;31mFatalError\u001b[0m                                Traceback (most recent call last)",
      "Cell \u001b[0;32mIn[15], line 10\u001b[0m\n\u001b[1;32m      8\u001b[0m action, _ \u001b[39m=\u001b[39m expert\u001b[39m.\u001b[39mpredict(obs, deterministic\u001b[39m=\u001b[39m\u001b[39mTrue\u001b[39;00m)\n\u001b[1;32m      9\u001b[0m obs, rew, done, _ \u001b[39m=\u001b[39m env\u001b[39m.\u001b[39mstep(action)\n\u001b[0;32m---> 10\u001b[0m ims\u001b[39m.\u001b[39mappend(env\u001b[39m.\u001b[39;49mrender())\n\u001b[1;32m     11\u001b[0m \u001b[39mprint\u001b[39m(rew)\n",
      "File \u001b[0;32m~/mocapact_conceptor/MoCapAct_repo/mocapact/envs/dm_control_wrapper.py:225\u001b[0m, in \u001b[0;36mDmControlWrapper.render\u001b[0;34m(self, mode, height, width, camera_id)\u001b[0m\n\u001b[1;32m    223\u001b[0m width \u001b[39m=\u001b[39m width \u001b[39mor\u001b[39;00m \u001b[39mself\u001b[39m\u001b[39m.\u001b[39m_width\n\u001b[1;32m    224\u001b[0m camera_id \u001b[39m=\u001b[39m camera_id \u001b[39mor\u001b[39;00m \u001b[39mself\u001b[39m\u001b[39m.\u001b[39m_camera_id\n\u001b[0;32m--> 225\u001b[0m \u001b[39mreturn\u001b[39;00m \u001b[39mself\u001b[39;49m\u001b[39m.\u001b[39;49m_env\u001b[39m.\u001b[39;49mphysics\u001b[39m.\u001b[39;49mrender(height\u001b[39m=\u001b[39;49mheight, width\u001b[39m=\u001b[39;49mwidth, camera_id\u001b[39m=\u001b[39;49mcamera_id)\n",
      "File \u001b[0;32m~/mocapact_conceptor/.venv_jax/lib/python3.9/site-packages/dm_control/mujoco/engine.py:223\u001b[0m, in \u001b[0;36mPhysics.render\u001b[0;34m(self, height, width, camera_id, overlays, depth, segmentation, scene_option, render_flag_overrides, scene_callback)\u001b[0m\n\u001b[1;32m    178\u001b[0m \u001b[39mdef\u001b[39;00m \u001b[39mrender\u001b[39m(\n\u001b[1;32m    179\u001b[0m     \u001b[39mself\u001b[39m,\n\u001b[1;32m    180\u001b[0m     height\u001b[39m=\u001b[39m\u001b[39m240\u001b[39m,\n\u001b[0;32m   (...)\u001b[0m\n\u001b[1;32m    189\u001b[0m                                       \u001b[39mNone\u001b[39;00m]] \u001b[39m=\u001b[39m \u001b[39mNone\u001b[39;00m,\n\u001b[1;32m    190\u001b[0m ):\n\u001b[1;32m    191\u001b[0m \u001b[39m  \u001b[39m\u001b[39m\"\"\"Returns a camera view as a NumPy array of pixel values.\u001b[39;00m\n\u001b[1;32m    192\u001b[0m \n\u001b[1;32m    193\u001b[0m \u001b[39m  Args:\u001b[39;00m\n\u001b[0;32m   (...)\u001b[0m\n\u001b[1;32m    221\u001b[0m \u001b[39m    The rendered RGB, depth or segmentation image.\u001b[39;00m\n\u001b[1;32m    222\u001b[0m \u001b[39m  \"\"\"\u001b[39;00m\n\u001b[0;32m--> 223\u001b[0m   camera \u001b[39m=\u001b[39m Camera(\n\u001b[1;32m    224\u001b[0m       physics\u001b[39m=\u001b[39;49m\u001b[39mself\u001b[39;49m,\n\u001b[1;32m    225\u001b[0m       height\u001b[39m=\u001b[39;49mheight,\n\u001b[1;32m    226\u001b[0m       width\u001b[39m=\u001b[39;49mwidth,\n\u001b[1;32m    227\u001b[0m       camera_id\u001b[39m=\u001b[39;49mcamera_id,\n\u001b[1;32m    228\u001b[0m       scene_callback\u001b[39m=\u001b[39;49mscene_callback)\n\u001b[1;32m    229\u001b[0m   image \u001b[39m=\u001b[39m camera\u001b[39m.\u001b[39mrender(\n\u001b[1;32m    230\u001b[0m       overlays\u001b[39m=\u001b[39moverlays, depth\u001b[39m=\u001b[39mdepth, segmentation\u001b[39m=\u001b[39msegmentation,\n\u001b[1;32m    231\u001b[0m       scene_option\u001b[39m=\u001b[39mscene_option, render_flag_overrides\u001b[39m=\u001b[39mrender_flag_overrides)\n\u001b[1;32m    232\u001b[0m   camera\u001b[39m.\u001b[39m_scene\u001b[39m.\u001b[39mfree()  \u001b[39m# pylint: disable=protected-access\u001b[39;00m\n",
      "File \u001b[0;32m~/mocapact_conceptor/.venv_jax/lib/python3.9/site-packages/dm_control/mujoco/engine.py:711\u001b[0m, in \u001b[0;36mCamera.__init__\u001b[0;34m(self, physics, height, width, camera_id, max_geom, scene_callback)\u001b[0m\n\u001b[1;32m    708\u001b[0m \u001b[39mself\u001b[39m\u001b[39m.\u001b[39m_rgb_buffer \u001b[39m=\u001b[39m np\u001b[39m.\u001b[39mempty((\u001b[39mself\u001b[39m\u001b[39m.\u001b[39m_height, \u001b[39mself\u001b[39m\u001b[39m.\u001b[39m_width, \u001b[39m3\u001b[39m), dtype\u001b[39m=\u001b[39mnp\u001b[39m.\u001b[39muint8)\n\u001b[1;32m    709\u001b[0m \u001b[39mself\u001b[39m\u001b[39m.\u001b[39m_depth_buffer \u001b[39m=\u001b[39m np\u001b[39m.\u001b[39mempty((\u001b[39mself\u001b[39m\u001b[39m.\u001b[39m_height, \u001b[39mself\u001b[39m\u001b[39m.\u001b[39m_width), dtype\u001b[39m=\u001b[39mnp\u001b[39m.\u001b[39mfloat32)\n\u001b[0;32m--> 711\u001b[0m \u001b[39mif\u001b[39;00m \u001b[39mself\u001b[39;49m\u001b[39m.\u001b[39;49m_physics\u001b[39m.\u001b[39;49mcontexts\u001b[39m.\u001b[39mmujoco \u001b[39mis\u001b[39;00m \u001b[39mnot\u001b[39;00m \u001b[39mNone\u001b[39;00m:\n\u001b[1;32m    712\u001b[0m   \u001b[39mwith\u001b[39;00m \u001b[39mself\u001b[39m\u001b[39m.\u001b[39m_physics\u001b[39m.\u001b[39mcontexts\u001b[39m.\u001b[39mgl\u001b[39m.\u001b[39mmake_current() \u001b[39mas\u001b[39;00m ctx:\n\u001b[1;32m    713\u001b[0m     ctx\u001b[39m.\u001b[39mcall(mujoco\u001b[39m.\u001b[39mmjr_setBuffer, mujoco\u001b[39m.\u001b[39mmjtFramebuffer\u001b[39m.\u001b[39mmjFB_OFFSCREEN,\n\u001b[1;32m    714\u001b[0m              \u001b[39mself\u001b[39m\u001b[39m.\u001b[39m_physics\u001b[39m.\u001b[39mcontexts\u001b[39m.\u001b[39mmujoco\u001b[39m.\u001b[39mptr)\n",
      "File \u001b[0;32m~/mocapact_conceptor/.venv_jax/lib/python3.9/site-packages/dm_control/mujoco/engine.py:533\u001b[0m, in \u001b[0;36mPhysics.contexts\u001b[0;34m(self)\u001b[0m\n\u001b[1;32m    531\u001b[0m \u001b[39mwith\u001b[39;00m \u001b[39mself\u001b[39m\u001b[39m.\u001b[39m_contexts_lock:\n\u001b[1;32m    532\u001b[0m   \u001b[39mif\u001b[39;00m \u001b[39mnot\u001b[39;00m \u001b[39mself\u001b[39m\u001b[39m.\u001b[39m_contexts:\n\u001b[0;32m--> 533\u001b[0m     \u001b[39mself\u001b[39;49m\u001b[39m.\u001b[39;49m_make_rendering_contexts()\n\u001b[1;32m    534\u001b[0m \u001b[39mreturn\u001b[39;00m \u001b[39mself\u001b[39m\u001b[39m.\u001b[39m_contexts\n",
      "File \u001b[0;32m~/mocapact_conceptor/.venv_jax/lib/python3.9/site-packages/dm_control/mujoco/engine.py:519\u001b[0m, in \u001b[0;36mPhysics._make_rendering_contexts\u001b[0;34m(self)\u001b[0m\n\u001b[1;32m    516\u001b[0m render_context \u001b[39m=\u001b[39m _render\u001b[39m.\u001b[39mRenderer(\n\u001b[1;32m    517\u001b[0m     max_width\u001b[39m=\u001b[39mmax_width, max_height\u001b[39m=\u001b[39mmax_height)\n\u001b[1;32m    518\u001b[0m \u001b[39m# Create the MuJoCo context.\u001b[39;00m\n\u001b[0;32m--> 519\u001b[0m mujoco_context \u001b[39m=\u001b[39m wrapper\u001b[39m.\u001b[39;49mMjrContext(\u001b[39mself\u001b[39;49m\u001b[39m.\u001b[39;49mmodel, render_context)\n\u001b[1;32m    520\u001b[0m \u001b[39mself\u001b[39m\u001b[39m.\u001b[39m_contexts \u001b[39m=\u001b[39m Contexts(gl\u001b[39m=\u001b[39mrender_context, mujoco\u001b[39m=\u001b[39mmujoco_context)\n",
      "File \u001b[0;32m~/mocapact_conceptor/.venv_jax/lib/python3.9/site-packages/dm_control/mujoco/wrapper/core.py:603\u001b[0m, in \u001b[0;36mMjrContext.__init__\u001b[0;34m(self, model, gl_context, font_scale)\u001b[0m\n\u001b[1;32m    601\u001b[0m \u001b[39mself\u001b[39m\u001b[39m.\u001b[39m_gl_context \u001b[39m=\u001b[39m gl_context\n\u001b[1;32m    602\u001b[0m \u001b[39mwith\u001b[39;00m gl_context\u001b[39m.\u001b[39mmake_current() \u001b[39mas\u001b[39;00m ctx:\n\u001b[0;32m--> 603\u001b[0m   ptr \u001b[39m=\u001b[39m ctx\u001b[39m.\u001b[39;49mcall(mujoco\u001b[39m.\u001b[39;49mMjrContext, model\u001b[39m.\u001b[39;49mptr, font_scale)\n\u001b[1;32m    604\u001b[0m   ctx\u001b[39m.\u001b[39mcall(mujoco\u001b[39m.\u001b[39mmjr_setBuffer, mujoco\u001b[39m.\u001b[39mmjtFramebuffer\u001b[39m.\u001b[39mmjFB_OFFSCREEN, ptr)\n\u001b[1;32m    605\u001b[0m gl_context\u001b[39m.\u001b[39mkeep_alive(ptr)\n",
      "File \u001b[0;32m~/mocapact_conceptor/.venv_jax/lib/python3.9/site-packages/dm_control/_render/executor/render_executor.py:138\u001b[0m, in \u001b[0;36mPassthroughRenderExecutor.call\u001b[0;34m(self, func, *args, **kwargs)\u001b[0m\n\u001b[1;32m    136\u001b[0m \u001b[39mdef\u001b[39;00m \u001b[39mcall\u001b[39m(\u001b[39mself\u001b[39m, func, \u001b[39m*\u001b[39margs, \u001b[39m*\u001b[39m\u001b[39m*\u001b[39mkwargs):\n\u001b[1;32m    137\u001b[0m   \u001b[39mself\u001b[39m\u001b[39m.\u001b[39m_check_locked()\n\u001b[0;32m--> 138\u001b[0m   \u001b[39mreturn\u001b[39;00m func(\u001b[39m*\u001b[39;49margs, \u001b[39m*\u001b[39;49m\u001b[39m*\u001b[39;49mkwargs)\n",
      "\u001b[0;31mFatalError\u001b[0m: an OpenGL platform library has not been loaded into this process, this most likely means that a valid OpenGL context has not been created before mjr_makeContext was called"
     ]
    }
   ],
   "source": [
    "from mocapact.envs import tracking\n",
    "from dm_control.locomotion.tasks.reference_pose import types\n",
    "dataset = types.ClipCollection(ids=['CMU_016_15'])\n",
    "env = tracking.MocapTrackingGymEnv(dataset)\n",
    "obs, done = env.reset(), False\n",
    "ims = []\n",
    "while not done:\n",
    "    action, _ = expert.predict(obs, deterministic=True)\n",
    "    obs, rew, done, _ = env.step(action)\n",
    "    ims.append(env.render())\n",
    "    print(rew)"
   ]
  },
  {
   "cell_type": "code",
   "execution_count": null,
   "metadata": {},
   "outputs": [],
   "source": []
  }
 ],
 "metadata": {
  "kernelspec": {
   "display_name": ".venv_jax",
   "language": "python",
   "name": "python3"
  },
  "language_info": {
   "codemirror_mode": {
    "name": "ipython",
    "version": 3
   },
   "file_extension": ".py",
   "mimetype": "text/x-python",
   "name": "python",
   "nbconvert_exporter": "python",
   "pygments_lexer": "ipython3",
   "version": "3.9.7"
  },
  "orig_nbformat": 4
 },
 "nbformat": 4,
 "nbformat_minor": 2
}
