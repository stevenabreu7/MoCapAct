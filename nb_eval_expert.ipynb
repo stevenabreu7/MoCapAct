{
 "cells": [
  {
   "cell_type": "code",
   "execution_count": 12,
   "metadata": {},
   "outputs": [
    {
     "data": {
      "text/plain": [
       "['eval_rsi', 'clip_info.json']"
      ]
     },
     "execution_count": 12,
     "metadata": {},
     "output_type": "execute_result"
    }
   ],
   "source": [
    "import os\n",
    "os.getcwd()\n",
    "os.path.exists('../data/experts/')\n",
    "os.listdir('../data/experts/CMU_016_15-0-127')"
   ]
  },
  {
   "cell_type": "code",
   "execution_count": 16,
   "metadata": {},
   "outputs": [],
   "source": [
    "from mocapact import observables\n",
    "from mocapact.sb3 import utils\n",
    "expert_path = \"../data/experts/CMU_016_15-0-127/eval_rsi/model\" # example path\n",
    "expert_path = \"xpert_rl/walk_300st_test20k_8wrk_eval_/CMU_016_15-0-127/0/eval_rsi/model\"\n",
    "expert = utils.load_policy(expert_path, observables.TIME_INDEX_OBSERVABLES)"
   ]
  },
  {
   "cell_type": "code",
   "execution_count": 14,
   "metadata": {},
   "outputs": [],
   "source": [
    "from IPython.display import HTML\n",
    "from IPython.display import display\n",
    "import numpy as np\n",
    "import matplotlib.pyplot as plt\n",
    "from matplotlib.animation import FuncAnimation\n",
    "\n",
    "\n",
    "def visualize_images(images, show=True, to_file = None):\n",
    "    fig, ax = plt.subplots()\n",
    "    x = ax.imshow(images[0])\n",
    "\n",
    "    def update(frame):\n",
    "        x.set_data(images[frame])\n",
    "        return x\n",
    "\n",
    "    ani = FuncAnimation(fig, update, frames=range(len(images)), interval=50)\n",
    "    if to_file is not None:\n",
    "        ani.save(to_file, writer='imagemagick', fps=30)\n",
    "    if show:\n",
    "        display(HTML(ani.to_html5_video()))\n",
    "    plt.close()"
   ]
  },
  {
   "cell_type": "code",
   "execution_count": 17,
   "metadata": {},
   "outputs": [
    {
     "name": "stdout",
     "output_type": "stream",
     "text": [
      "0.7375176889929589\n",
      "0.4349844916563834\n",
      "0.2111454620291323\n",
      "0.0894946397096461\n",
      "0.03629657542208253\n",
      "0.017716231569883667\n",
      "0.006587208744100126\n",
      "0.006652683537744508\n",
      "-0.004666932189263173\n"
     ]
    }
   ],
   "source": [
    "from mocapact.envs import tracking\n",
    "from dm_control.locomotion.tasks.reference_pose import types\n",
    "dataset = types.ClipCollection(ids=['CMU_016_15'])\n",
    "env = tracking.MocapTrackingGymEnv(dataset)\n",
    "obs, done = env.reset(), False\n",
    "ims = []\n",
    "while not done:\n",
    "    action, _ = expert.predict(obs, deterministic=True)\n",
    "    obs, rew, done, _ = env.step(action)\n",
    "    # ims.append(env.render())\n",
    "    print(rew)"
   ]
  },
  {
   "cell_type": "code",
   "execution_count": null,
   "metadata": {},
   "outputs": [],
   "source": []
  }
 ],
 "metadata": {
  "kernelspec": {
   "display_name": ".venv_jax",
   "language": "python",
   "name": "python3"
  },
  "language_info": {
   "codemirror_mode": {
    "name": "ipython",
    "version": 3
   },
   "file_extension": ".py",
   "mimetype": "text/x-python",
   "name": "python",
   "nbconvert_exporter": "python",
   "pygments_lexer": "ipython3",
   "version": "3.9.7"
  },
  "orig_nbformat": 4
 },
 "nbformat": 4,
 "nbformat_minor": 2
}
