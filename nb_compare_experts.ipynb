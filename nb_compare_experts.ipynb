{
 "cells": [
  {
   "cell_type": "code",
   "execution_count": 5,
   "metadata": {},
   "outputs": [
    {
     "data": {
      "text/plain": [
       "<module 'mocapact' from '/home/stevenabreu/mocapact_conceptor/MoCapAct_repo/mocapact/__init__.py'>"
      ]
     },
     "execution_count": 5,
     "metadata": {},
     "output_type": "execute_result"
    }
   ],
   "source": [
    "import importlib\n",
    "\n",
    "importlib.reload(mocapact)"
   ]
  },
  {
   "cell_type": "code",
   "execution_count": 11,
   "metadata": {},
   "outputs": [],
   "source": [
    "from mocapact import observables\n",
    "from mocapact.sb3 import utils\n",
    "\n",
    "their = \"../data/experts/CMU_016_15-0-127/eval_rsi/model\"\n",
    "mine = \"xpert_rl/walk_300st_test20k_8wrk_eval_/CMU_016_15-0-127/0/eval_rsi/model\"\n",
    "# expert = utils.load_policy(their, observables.TIME_INDEX_OBSERVABLES)\n",
    "# mine = utils.load_policy(mine, observables.TIME_INDEX_OBSERVABLES)"
   ]
  },
  {
   "cell_type": "code",
   "execution_count": 12,
   "metadata": {},
   "outputs": [],
   "source": [
    "from os import path as osp\n",
    "import os\n",
    "import pickle\n",
    "import zipfile\n",
    "import json\n",
    "import torch\n",
    "\n",
    "model_path = mine\n",
    "\n",
    "# Normalization statistics\n",
    "with open(osp.join(model_path, 'vecnormalize.pkl'), 'rb') as f:\n",
    "    norm_env = pickle.load(f)\n",
    "    obs_stats = norm_env.obs_rms\n",
    "\n",
    "# Set up model\n",
    "with zipfile.ZipFile(osp.join(model_path, 'best_model.zip')) as archive:\n",
    "    json_string = archive.read(\"data\").decode()\n",
    "    json_dict = json.loads(json_string)\n",
    "    policy_kwargs = {k: v for k, v in json_dict['policy_kwargs'].items() if not k.startswith(':')}\n",
    "    if 'Tanh' in policy_kwargs['activation_fn']:\n",
    "        policy_kwargs['activation_fn'] = torch.nn.Tanh\n",
    "    elif 'ReLU' in policy_kwargs['activation_fn']:\n",
    "        policy_kwargs['activation_fn'] = torch.nn.ReLU\n",
    "    else:\n",
    "        policy_kwargs['activation_fn'] = torch.nn.ELU"
   ]
  },
  {
   "cell_type": "code",
   "execution_count": 13,
   "metadata": {},
   "outputs": [],
   "source": [
    "json_dict_mine = json_dict.copy()"
   ]
  },
  {
   "cell_type": "code",
   "execution_count": 9,
   "metadata": {},
   "outputs": [],
   "source": [
    "json_dict_theirs = json_dict.copy()"
   ]
  },
  {
   "cell_type": "code",
   "execution_count": 16,
   "metadata": {},
   "outputs": [
    {
     "data": {
      "text/plain": [
       "dict_keys(['policy_class', 'verbose', 'policy_kwargs', 'num_timesteps', '_total_timesteps', '_num_timesteps_at_start', 'seed', 'action_noise', 'start_time', 'learning_rate', 'tensorboard_log', 'lr_schedule', '_last_obs', '_last_episode_starts', '_last_original_obs', '_episode_num', 'use_sde', 'sde_sample_freq', '_current_progress_remaining', '_stats_window_size', 'ep_info_buffer', 'ep_success_buffer', '_n_updates', 'observation_space', 'action_space', 'n_envs', 'n_steps', 'gamma', 'gae_lambda', 'ent_coef', 'vf_coef', 'max_grad_norm', 'batch_size', 'n_epochs', 'clip_range', 'clip_range_vf', 'normalize_advantage', 'target_kl'])"
      ]
     },
     "execution_count": 16,
     "metadata": {},
     "output_type": "execute_result"
    }
   ],
   "source": [
    "json_dict_mine.keys()"
   ]
  },
  {
   "cell_type": "code",
   "execution_count": 15,
   "metadata": {},
   "outputs": [
    {
     "data": {
      "text/plain": [
       "{'_stats_window_size', 'normalize_advantage'}"
      ]
     },
     "execution_count": 15,
     "metadata": {},
     "output_type": "execute_result"
    }
   ],
   "source": [
    "set(json_dict_mine.keys()).difference(set(json_dict_theirs.keys()))"
   ]
  },
  {
   "cell_type": "code",
   "execution_count": null,
   "metadata": {},
   "outputs": [
    {
     "data": {
      "text/plain": [
       "{'_stats_window_size', 'normalize_advantage'}"
      ]
     },
     "metadata": {},
     "output_type": "display_data"
    }
   ],
   "source": [
    "set(json_dict_mine['observation_space'].keys()).difference(set(json_dict_theirs['observation_space'].keys()))"
   ]
  },
  {
   "cell_type": "code",
   "execution_count": null,
   "metadata": {},
   "outputs": [],
   "source": []
  }
 ],
 "metadata": {
  "kernelspec": {
   "display_name": ".venv_jax",
   "language": "python",
   "name": "python3"
  },
  "language_info": {
   "codemirror_mode": {
    "name": "ipython",
    "version": 3
   },
   "file_extension": ".py",
   "mimetype": "text/x-python",
   "name": "python",
   "nbconvert_exporter": "python",
   "pygments_lexer": "ipython3",
   "version": "3.9.7"
  },
  "orig_nbformat": 4
 },
 "nbformat": 4,
 "nbformat_minor": 2
}
