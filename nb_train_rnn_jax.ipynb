{
 "cells": [
  {
   "cell_type": "markdown",
   "metadata": {},
   "source": [
    "## using JAX to train the RNN\n",
    "\n",
    "below is some code for loading the data such that you can train in any way you like"
   ]
  },
  {
   "cell_type": "code",
   "execution_count": 1,
   "metadata": {},
   "outputs": [
    {
     "name": "stderr",
     "output_type": "stream",
     "text": [
      "/Users/steve/Code/mocapact_conceptor/.venv_mocapact/lib/python3.10/site-packages/torch/utils/tensorboard/__init__.py:4: DeprecationWarning: distutils Version classes are deprecated. Use packaging.version instead.\n",
      "  if not hasattr(tensorboard, \"__version__\") or LooseVersion(\n",
      "/Users/steve/Code/mocapact_conceptor/.venv_mocapact/lib/python3.10/site-packages/torch/utils/tensorboard/__init__.py:6: DeprecationWarning: distutils Version classes are deprecated. Use packaging.version instead.\n",
      "  ) < LooseVersion(\"1.15\"):\n",
      "/Users/steve/Code/mocapact_conceptor/.venv_mocapact/lib/python3.10/site-packages/ml_collections/config_flags/config_flags.py:19: DeprecationWarning: the imp module is deprecated in favour of importlib and slated for removal in Python 3.12; see the module's documentation for alternative uses\n",
      "  import imp\n",
      "/Users/steve/Code/mocapact_conceptor/.venv_mocapact/lib/python3.10/site-packages/torchmetrics/utilities/imports.py:24: DeprecationWarning: distutils Version classes are deprecated. Use packaging.version instead.\n",
      "  _PYTHON_LOWER_3_8 = LooseVersion(_PYTHON_VERSION) < LooseVersion(\"3.8\")\n",
      "/Users/steve/Code/mocapact_conceptor/.venv_mocapact/lib/python3.10/site-packages/torchmetrics/utilities/imports.py:24: DeprecationWarning: distutils Version classes are deprecated. Use packaging.version instead.\n",
      "  _PYTHON_LOWER_3_8 = LooseVersion(_PYTHON_VERSION) < LooseVersion(\"3.8\")\n"
     ]
    }
   ],
   "source": [
    "from mocapact.distillation import dataset\n",
    "from mocapact import observables\n",
    "from stable_baselines3.common.running_mean_std import RunningMeanStd\n",
    "from mocapact.sb3.features_extractor import CmuHumanoidFeaturesExtractor\n",
    "from torch.utils.data.dataloader import DataLoader\n",
    "from mocapact.distillation.train import pad_collate"
   ]
  },
  {
   "cell_type": "code",
   "execution_count": 2,
   "metadata": {},
   "outputs": [],
   "source": [
    "dataset_path = '../data/dataset/large/'"
   ]
  },
  {
   "cell_type": "code",
   "execution_count": 3,
   "metadata": {},
   "outputs": [
    {
     "name": "stdout",
     "output_type": "stream",
     "text": [
      "called _create_offsets() in ExpertDatasetRNN\n"
     ]
    }
   ],
   "source": [
    "# create dataset and dataloader\n",
    "train_dataset = dataset.ExpertDatasetRNN(\n",
    "    hdf5_fnames=[\n",
    "        f'{dataset_path}/CMU_016_15.hdf5', \n",
    "        f'{dataset_path}/CMU_016_55.hdf5'\n",
    "    ],\n",
    "    observables=observables.MULTI_CLIP_OBSERVABLES_SANS_ID,\n",
    "    metrics_path=f'{dataset_path}/dataset_metrics.npz',\n",
    "    clip_ids=None,\n",
    "    min_seq_steps=1,\n",
    "    max_seq_steps=1,\n",
    "    n_start_rollouts=-1,\n",
    "    n_rsi_rollouts=-1,\n",
    "    normalize_obs=False,\n",
    "    clip_len_upsampling=False,\n",
    "    clip_weighted=False,\n",
    "    advantage_weights=False,\n",
    "    temperature=4.0,\n",
    "    concat_observables=False,\n",
    "    keep_hdf5s_open=False\n",
    ")\n",
    "train_loader = DataLoader(train_dataset, shuffle=True, pin_memory=True,\n",
    "                          batch_size=8, num_workers=1, collate_fn=pad_collate)"
   ]
  },
  {
   "cell_type": "code",
   "execution_count": 4,
   "metadata": {},
   "outputs": [],
   "source": [
    "# create feature extractor\n",
    "model_observables = observables.HIGH_LEVEL_OBSERVABLES\n",
    "obs_rms = {}\n",
    "for obs_key, obs_indices in train_dataset.observable_indices.items():\n",
    "    rms = RunningMeanStd(shape=obs_indices.shape)\n",
    "    rms.mean = train_dataset.proprio_mean[obs_indices]\n",
    "    rms.var = train_dataset.proprio_var[obs_indices]\n",
    "    rms.count = train_dataset.count\n",
    "    obs_rms[obs_key] = rms\n",
    "feature_extractor = CmuHumanoidFeaturesExtractor(\n",
    "    observation_space=train_dataset.full_observation_space,\n",
    "    observable_keys=model_observables,\n",
    "    obs_rms=obs_rms\n",
    ")"
   ]
  },
  {
   "cell_type": "code",
   "execution_count": 5,
   "metadata": {},
   "outputs": [
    {
     "name": "stderr",
     "output_type": "stream",
     "text": [
      "/Users/steve/Code/mocapact_conceptor/.venv_mocapact/lib/python3.10/site-packages/torch/utils/tensorboard/__init__.py:4: DeprecationWarning: distutils Version classes are deprecated. Use packaging.version instead.\n",
      "  if not hasattr(tensorboard, \"__version__\") or LooseVersion(\n",
      "/Users/steve/Code/mocapact_conceptor/.venv_mocapact/lib/python3.10/site-packages/torch/utils/tensorboard/__init__.py:6: DeprecationWarning: distutils Version classes are deprecated. Use packaging.version instead.\n",
      "  ) < LooseVersion(\"1.15\"):\n",
      "/Users/steve/Code/mocapact_conceptor/.venv_mocapact/lib/python3.10/site-packages/ml_collections/config_flags/config_flags.py:19: DeprecationWarning: the imp module is deprecated in favour of importlib and slated for removal in Python 3.12; see the module's documentation for alternative uses\n",
      "  import imp\n",
      "/Users/steve/Code/mocapact_conceptor/.venv_mocapact/lib/python3.10/site-packages/torchmetrics/utilities/imports.py:24: DeprecationWarning: distutils Version classes are deprecated. Use packaging.version instead.\n",
      "  _PYTHON_LOWER_3_8 = LooseVersion(_PYTHON_VERSION) < LooseVersion(\"3.8\")\n",
      "/Users/steve/Code/mocapact_conceptor/.venv_mocapact/lib/python3.10/site-packages/torchmetrics/utilities/imports.py:24: DeprecationWarning: distutils Version classes are deprecated. Use packaging.version instead.\n",
      "  _PYTHON_LOWER_3_8 = LooseVersion(_PYTHON_VERSION) < LooseVersion(\"3.8\")\n"
     ]
    },
    {
     "name": "stdout",
     "output_type": "stream",
     "text": [
      "features of shape torch.Size([8, 122, 1291])\n",
      "actions of shape torch.Size([8, 122, 56])\n",
      "weights of shape torch.Size([8, 122])\n",
      "seq_len: [122, 96, 39, 31, 36, 42, 30, 42]\n"
     ]
    }
   ],
   "source": [
    "for batch_idx, batch in enumerate(train_loader):\n",
    "    # observations: dictionary of (B, T, O_) tensors\n",
    "    # actions: (B, T, A)\n",
    "    # weights: (B, T, 1)\n",
    "    # seq_len: list of B ints\n",
    "    observations, actions, weights, seq_len = batch\n",
    "\n",
    "    # preprocess observations into a feature tensor\n",
    "    features = feature_extractor(observations)\n",
    "    # features: (B, T, F) -> input to the RNN\n",
    "\n",
    "    print(f'features of shape {features.shape}')\n",
    "    print(f'actions of shape {actions.shape}')\n",
    "    print(f'weights of shape {weights.shape}')\n",
    "    print(f'seq_len: {seq_len}')\n",
    "\n",
    "    # here goes the training code! \n",
    "    # note that features, act, weights are all torch tensors\n",
    "    # if you want to use jax, you can convert them to jax arrays\n",
    "    break"
   ]
  },
  {
   "cell_type": "code",
   "execution_count": null,
   "metadata": {},
   "outputs": [],
   "source": []
  }
 ],
 "metadata": {
  "kernelspec": {
   "display_name": ".venv_jax",
   "language": "python",
   "name": "python3"
  },
  "language_info": {
   "codemirror_mode": {
    "name": "ipython",
    "version": 3
   },
   "file_extension": ".py",
   "mimetype": "text/x-python",
   "name": "python",
   "nbconvert_exporter": "python",
   "pygments_lexer": "ipython3",
   "version": "3.10.10"
  },
  "orig_nbformat": 4
 },
 "nbformat": 4,
 "nbformat_minor": 2
}
